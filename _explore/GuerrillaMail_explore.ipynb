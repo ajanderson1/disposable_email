{
 "cells": [
  {
   "cell_type": "code",
   "execution_count": 3,
   "metadata": {},
   "outputs": [],
   "source": [
    "from disposable_email.GuerrillaMail import GuerrillaMail, GuerrillaMailException\n",
    "import pandas as pd\n",
    "from email.message import EmailMessage\n",
    "from email.utils import formatdate\n",
    "import logging\n",
    "\n",
    "# from guerrillamail import GuerrillaMailSession, GuerrillaMailException\n",
    "from polling import poll, TimeoutException\n",
    "from IPython.display import clear_output, display, HTML\n",
    "\n",
    "this_log = logging.getLogger('disposable_email.GuerrillaMail')\n",
    "\n",
    "\n",
    "c_handler = logging.StreamHandler()\n",
    "c_handler.setLevel(logging.DEBUG)\n",
    "c_format = logging.Formatter('%(name)s - %(levelname)s - %(message)s')\n",
    "c_handler.setFormatter(c_format)\n",
    "# print(f\"about c_handler: {c_handler.__dict__}\")\n",
    "# print(f\"about c_handler: {c_handler.__dict__}\")\n",
    "this_log.addHandler(c_handler)\n",
    "this_log.setLevel(logging.DEBUG)\n"
   ]
  },
  {
   "cell_type": "code",
   "execution_count": 4,
   "metadata": {},
   "outputs": [
    {
     "name": "stderr",
     "output_type": "stream",
     "text": [
      "disposable_email.GuerrillaMail - INFO - Testing logging in disposable_email.GuerrillaMail\n",
      "disposable_email.GuerrillaMail - INFO - Testing logging in disposable_email.GuerrillaMail\n"
     ]
    },
    {
     "name": "stdout",
     "output_type": "stream",
     "text": [
      "Setting up GuerrillaMailSession\n",
      "To get logger for this module, use: logging.getLogger('disposable_email.GuerrillaMail')\n"
     ]
    }
   ],
   "source": [
    "gm_obj = GuerrillaMail()\n"
   ]
  },
  {
   "cell_type": "code",
   "execution_count": 3,
   "metadata": {},
   "outputs": [
    {
     "data": {
      "text/plain": [
       "<disposable_email.GuerrillaMail.GuerrillaMail at 0x109ec6880>"
      ]
     },
     "execution_count": 3,
     "metadata": {},
     "output_type": "execute_result"
    }
   ],
   "source": [
    "gm_obj"
   ]
  },
  {
   "cell_type": "code",
   "execution_count": 4,
   "metadata": {},
   "outputs": [
    {
     "name": "stderr",
     "output_type": "stream",
     "text": [
      "disposable_email.GuerrillaMail - INFO - Attempting to return email\n"
     ]
    },
    {
     "data": {
      "text/plain": [
       "'ezobjopl@guerrillamailblock.com'"
      ]
     },
     "execution_count": 4,
     "metadata": {},
     "output_type": "execute_result"
    }
   ],
   "source": [
    "gm_obj.email_address(timeout=10)"
   ]
  },
  {
   "cell_type": "code",
   "execution_count": null,
   "metadata": {},
   "outputs": [],
   "source": [
    "gm_obj.inbox_size"
   ]
  },
  {
   "cell_type": "code",
   "execution_count": 5,
   "metadata": {},
   "outputs": [
    {
     "data": {
      "text/plain": [
       "[{'guid': 1,\n",
       "  'subject': 'Welcome to Guerrilla Mail',\n",
       "  'sender': 'no-reply@guerrillamail.com',\n",
       "  'datetime': datetime.datetime(1970, 1, 1, 0, 0, tzinfo=<guerrillamail.UTC object at 0x10cb04fa0>),\n",
       "  'read': 0,\n",
       "  'exerpt': None,\n",
       "  'excerpt': 'Dear Random User,\\r\\n\\r\\nThank you for using Guerrilla Mail - your temporary email address friend and spam fighter&#039;s ally!\\r\\n\\r\\nYour disposable email address has been created ready for use.\\r\\n\\r\\nEmail: xgesey',\n",
       "  'body': '<pre>Dear Random User,\\r\\n\\r\\nThank you for using Guerrilla Mail - your temporary email address friend\\nand spam fighter\\'s ally!\\r\\n\\r\\nYour disposable email address has been created ready for use.\\r\\n\\r\\nEmail: xgeseyuv@sharklasers.com\\r\\n\\r\\nTips &amp; Notes:\\r\\n\\r\\n- You can change this email address! Place your mouse over the Inbox ID at\\nthe top of this page and click to edit.\\r\\n\\r\\n- Once you change to a new address, the old address will remain available,\\nsimply change back to it. (Note: email is kept for 1 hour)\\r\\n\\r\\n- Waiting for your mail? There is no need to refresh the page, new emails\\nwill be added to the list as they come in.\\r\\n\\r\\n- All Emails are deleted after 1 hour.\\r\\n\\r\\nClick on the back the \"&laquo; Back to inbox\" to go back to the mail list\\r\\n\\r\\nThanks,\\r\\n\\r\\nGuerrilla Mail Team\\r\\n<a href=\"http://www.guerrillamail.com/\">http://www.guerrillamail.com/</a>\\r\\n\\r\\n\"Free to download, but you have to give your email address so they can\\ninevitably attempt to sell you stuff in the future? guerrillamail.com\\nFTW!\"\\r\\n\\r\\nConnect with us:\\r\\n<a href=\"https://www.facebook.com/GuerrillaMail\">https://www.facebook.com/GuerrillaMail</a>\\r\\n<a href=\"https://twitter.com/GuerrillaMail\">https://twitter.com/GuerrillaMail</a></pre>'}]"
      ]
     },
     "execution_count": 5,
     "metadata": {},
     "output_type": "execute_result"
    }
   ],
   "source": [
    "gm_obj.list_inbox()"
   ]
  },
  {
   "cell_type": "code",
   "execution_count": null,
   "metadata": {},
   "outputs": [],
   "source": [
    "current_email_address = \"qejy1n+6xmank5ca1zec@guerrillamail.org\"\n",
    "gm_obj = GuerrillaMail(current_email_address)\n",
    "gm_obj.list_inbox()"
   ]
  },
  {
   "cell_type": "code",
   "execution_count": 5,
   "metadata": {},
   "outputs": [
    {
     "name": "stderr",
     "output_type": "stream",
     "text": [
      "disposable_email.GuerrillaMail - INFO - TimeoutException: No new emails arrived within the allowed time period ().\n",
      "disposable_email.GuerrillaMail - INFO - TimeoutException: No new emails arrived within the allowed time period ().\n"
     ]
    },
    {
     "name": "stdout",
     "output_type": "stream",
     "text": [
      "TimeoutException: No new emails arrived within the allowed time period ().\n"
     ]
    }
   ],
   "source": [
    "gm_obj.await_next_email(timeout=100)"
   ]
  },
  {
   "cell_type": "code",
   "execution_count": null,
   "metadata": {},
   "outputs": [],
   "source": [
    "email_client_name = \"GuerillaMail\"\n",
    "specified_email_addr='qejy1n+6xmank5ca1zec@guerrillamail.org'\n",
    "this_session = GuerrillaMailSession(email_address=specified_email_addr) if specified_email_addr else GuerrillaMailSession()  # if email address provided use this for this_session/inbox\n",
    "# # this_session = GuerrillaMailSession()\n",
    "\n",
    "# NB: occassionall times out!!!\n",
    "try:\n",
    "    print (this_session.get_session_state()['email_address'])\n",
    "except GuerrillaMailException as err:\n",
    "    this_error = err\n",
    "\n",
    "# print (this_session.get_email_list()[0].guid)"
   ]
  },
  {
   "cell_type": "code",
   "execution_count": null,
   "metadata": {},
   "outputs": [],
   "source": [
    "this_error.__dict__"
   ]
  },
  {
   "cell_type": "code",
   "execution_count": null,
   "metadata": {},
   "outputs": [],
   "source": [
    "print (this_session.get_session_state()['email_address'])\n",
    "print (this_session.get_email_list())\n",
    "print (this_session.get_email_list()[0].guid)"
   ]
  },
  {
   "cell_type": "code",
   "execution_count": null,
   "metadata": {},
   "outputs": [],
   "source": [
    "GuerrillaMailSession.list_inbox()"
   ]
  },
  {
   "cell_type": "code",
   "execution_count": null,
   "metadata": {},
   "outputs": [],
   "source": [
    "guerillaSession.__dict__"
   ]
  },
  {
   "cell_type": "code",
   "execution_count": null,
   "metadata": {},
   "outputs": [],
   "source": [
    "type(guerillaSession.client)"
   ]
  },
  {
   "cell_type": "code",
   "execution_count": null,
   "metadata": {},
   "outputs": [],
   "source": []
  }
 ],
 "metadata": {
  "kernelspec": {
   "display_name": "Python 3.9.13 64-bit",
   "language": "python",
   "name": "python3"
  },
  "language_info": {
   "codemirror_mode": {
    "name": "ipython",
    "version": 3
   },
   "file_extension": ".py",
   "mimetype": "text/x-python",
   "name": "python",
   "nbconvert_exporter": "python",
   "pygments_lexer": "ipython3",
   "version": "3.9.13"
  },
  "orig_nbformat": 4,
  "vscode": {
   "interpreter": {
    "hash": "b0fa6594d8f4cbf19f97940f81e996739fb7646882a419484c72d19e05852a7e"
   }
  }
 },
 "nbformat": 4,
 "nbformat_minor": 2
}
