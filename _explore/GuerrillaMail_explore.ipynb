{
 "cells": [
  {
   "cell_type": "code",
   "execution_count": null,
   "metadata": {},
   "outputs": [],
   "source": [
    "from disposable_email.DisposableEmail import DisposableEmail\n",
    "from disposable_email.GuerrillaMail import GuerrillaMail, GuerrillaMailException\n",
    "import pandas as pd\n",
    "from email.message import EmailMessage\n",
    "from email.utils import formatdate\n",
    "import logging\n",
    "\n",
    "from guerrillamail import GuerrillaMailSession, GuerrillaMailException\n",
    "from polling import poll, TimeoutException\n",
    "from IPython.display import clear_output, display, HTML\n",
    "\n",
    "log = logging.getLogger(__name__)\n"
   ]
  },
  {
   "cell_type": "code",
   "execution_count": null,
   "metadata": {},
   "outputs": [],
   "source": [
    "gm_obj.inbox_size"
   ]
  },
  {
   "cell_type": "code",
   "execution_count": null,
   "metadata": {},
   "outputs": [],
   "source": [
    "gm_obj.list_inbox()"
   ]
  },
  {
   "cell_type": "code",
   "execution_count": null,
   "metadata": {},
   "outputs": [],
   "source": [
    "current_email_address = \"qejy1n+6xmank5ca1zec@guerrillamail.org\"\n",
    "gm_obj = GuerrillaMail(current_email_address)\n",
    "gm_obj.list_inbox()"
   ]
  },
  {
   "cell_type": "code",
   "execution_count": null,
   "metadata": {},
   "outputs": [],
   "source": [
    "gm_obj.wait_for_next_email(timeout=300)"
   ]
  },
  {
   "cell_type": "code",
   "execution_count": null,
   "metadata": {},
   "outputs": [],
   "source": [
    "email_client_name = \"GuerillaMail\"\n",
    "specified_email_addr='qejy1n+6xmank5ca1zec@guerrillamail.org'\n",
    "this_session = GuerrillaMailSession(email_address=specified_email_addr) if specified_email_addr else GuerrillaMailSession()  # if email address provided use this for this_session/inbox\n",
    "# # this_session = GuerrillaMailSession()\n",
    "\n",
    "# NB: occassionall times out!!!\n",
    "try:\n",
    "    print (this_session.get_session_state()['email_address'])\n",
    "except GuerrillaMailException as err:\n",
    "    this_error = err\n",
    "\n",
    "# print (this_session.get_email_list()[0].guid)"
   ]
  },
  {
   "cell_type": "code",
   "execution_count": null,
   "metadata": {},
   "outputs": [],
   "source": [
    "this_error.__dict__"
   ]
  },
  {
   "cell_type": "code",
   "execution_count": null,
   "metadata": {},
   "outputs": [],
   "source": [
    "print (this_session.get_session_state()['email_address'])\n",
    "print (this_session.get_email_list())\n",
    "print (this_session.get_email_list()[0].guid)"
   ]
  },
  {
   "cell_type": "code",
   "execution_count": null,
   "metadata": {},
   "outputs": [],
   "source": [
    "GuerrillaMailSession.list_inbox()"
   ]
  },
  {
   "cell_type": "code",
   "execution_count": null,
   "metadata": {},
   "outputs": [],
   "source": [
    "guerillaSession.__dict__"
   ]
  },
  {
   "cell_type": "code",
   "execution_count": null,
   "metadata": {},
   "outputs": [],
   "source": [
    "type(guerillaSession.client)"
   ]
  },
  {
   "cell_type": "code",
   "execution_count": null,
   "metadata": {},
   "outputs": [],
   "source": []
  }
 ],
 "metadata": {
  "kernelspec": {
   "display_name": "Python 3.9.13 64-bit",
   "language": "python",
   "name": "python3"
  },
  "language_info": {
   "codemirror_mode": {
    "name": "ipython",
    "version": 3
   },
   "file_extension": ".py",
   "mimetype": "text/x-python",
   "name": "python",
   "nbconvert_exporter": "python",
   "pygments_lexer": "ipython3",
   "version": "3.9.13"
  },
  "orig_nbformat": 4,
  "vscode": {
   "interpreter": {
    "hash": "b0fa6594d8f4cbf19f97940f81e996739fb7646882a419484c72d19e05852a7e"
   }
  }
 },
 "nbformat": 4,
 "nbformat_minor": 2
}
