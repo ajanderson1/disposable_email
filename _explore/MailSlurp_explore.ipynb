{
 "cells": [
  {
   "cell_type": "code",
   "execution_count": null,
   "metadata": {},
   "outputs": [],
   "source": [
    "import os\n",
    "import sys\n",
    "from datetime import datetime\n",
    "\n",
    "\n",
    "from config import MAILSLURP_API\n",
    "import mailslurp_client\n",
    "from email.utils import formatdate\n",
    "from email.message import EmailMessage\n",
    "import email.header\n",
    "from mailslurp_client import ApiException, Email, EmailPreview\n",
    "\n",
    "\n",
    "\n",
    "print(mailslurp_client.__version__)\n"
   ]
  },
  {
   "cell_type": "markdown",
   "metadata": {},
   "source": [
    "# Utils"
   ]
  },
  {
   "cell_type": "code",
   "execution_count": null,
   "metadata": {},
   "outputs": [],
   "source": [
    "def wrap_email(email_mailslurp: mailslurp_client.Email) -> EmailMessage:\n",
    "    #raise NotImplementedError(f\"wrap_email method not yet implemented for MailSlurp(because ran out of API credits!!!)\")\n",
    "    msg = EmailMessage()\n",
    "    msg['Subject'] = email_mailslurp.subject\n",
    "    msg['From'] = email_mailslurp._from\n",
    "    msg['To'] = email_mailslurp._to\n",
    "    msg['Date'] = formatdate(email_mailslurp.created_at.timestamp())\n",
    "    msg.set_content(email_mailslurp.body)\n",
    "    return msg  # returns the Email Object\n"
   ]
  },
  {
   "cell_type": "code",
   "execution_count": null,
   "metadata": {},
   "outputs": [],
   "source": [
    "import re \n",
    "import logging\n",
    "log = logging.getLogger(__name__)\n",
    "\n",
    "def validate_email_addr(email_addr):\n",
    "    \"\"\" Ensure that emaill address conforms to valid structure and return if True \"\"\"\n",
    "\n",
    "    EMAIL_REGEX = re.compile(r'^[A-Za-z0-9._%+-]+@[A-Za-z0-9.-]+\\.[A-Z|a-z]{2,}\\b', re.I)\n",
    "\n",
    "    log.debug(f\"Validationg: {email_addr}\")        \n",
    "    if(re.fullmatch(EMAIL_REGEX, email_addr)):\n",
    "        return email_addr\n",
    "    else:\n",
    "        raise ValueError(\"Invalid Email...\")"
   ]
  },
  {
   "cell_type": "code",
   "execution_count": null,
   "metadata": {},
   "outputs": [],
   "source": [
    "validate_email_addr('as@asfg.com')"
   ]
  },
  {
   "cell_type": "code",
   "execution_count": null,
   "metadata": {},
   "outputs": [],
   "source": [
    "test_str = ' asdomte!)(*@!ststringemail.com'\n",
    "test_str.lstrip().split(\"@\")[0]"
   ]
  },
  {
   "cell_type": "markdown",
   "metadata": {},
   "source": [
    "# Setup\n"
   ]
  },
  {
   "cell_type": "markdown",
   "metadata": {},
   "source": [
    "## Configuration"
   ]
  },
  {
   "cell_type": "code",
   "execution_count": 62,
   "metadata": {},
   "outputs": [],
   "source": [
    "# set up required MailSlurp Configuration\n",
    "configuration = mailslurp_client.Configuration()\n",
    "configuration.api_key['x-api-key'] = MAILSLURP_API\n",
    "\n",
    "# create an API client\n",
    "api_client = mailslurp_client.ApiClient(configuration)\n",
    "\n",
    "# create an InboxControllerApi  # See: https://docs.mailslurp.com/ruby/docs/InboxControllerApi/\n",
    "inbox_controller = mailslurp_client.InboxControllerApi(api_client)\n",
    "waitfor_controller = mailslurp_client.WaitForControllerApi(api_client)\n",
    "email_controller = mailslurp_client.EmailControllerApi(api_client)\n"
   ]
  },
  {
   "cell_type": "code",
   "execution_count": 66,
   "metadata": {},
   "outputs": [
    {
     "data": {
      "text/plain": [
       "{'_from': 'ajanderson1@gmail.com',\n",
       " 'analysis': {'dkim_verdict': 'PASS',\n",
       "              'dmarc_verdict': 'PASS',\n",
       "              'spam_verdict': 'PASS',\n",
       "              'spf_verdict': 'PASS',\n",
       "              'virus_verdict': 'PASS'},\n",
       " 'attachments': [],\n",
       " 'bcc': [],\n",
       " 'body': '<div dir=\"ltr\">testemail body 1<div><br></div></div>\\r\\n',\n",
       " 'body_excerpt': '<div dir=\"ltr\">testemail body 1<div><br></div></div>\\r\\n',\n",
       " 'body_md5_hash': '2B121C22569855B6DEE5BDA5270A57E5',\n",
       " 'cc': [],\n",
       " 'charset': 'UTF-8',\n",
       " 'created_at': datetime.datetime(2022, 7, 10, 14, 11, 42, 451000, tzinfo=tzutc()),\n",
       " 'headers': {'Authentication-Results': 'amazonses.com;\\r\\n'\n",
       "                                       ' spf=pass (spfCheck: domain of '\n",
       "                                       '_spf.google.com designates '\n",
       "                                       '209.85.210.175 as permitted sender) '\n",
       "                                       'client-ip=209.85.210.175; '\n",
       "                                       'envelope-from=ajanderson1@gmail.com; '\n",
       "                                       'helo=mail-pf1-f175.google.com;\\r\\n'\n",
       "                                       ' dkim=pass header.i=@gmail.com;\\r\\n'\n",
       "                                       ' dmarc=pass header.from=gmail.com;',\n",
       "             'Content-Type': 'multipart/alternative; '\n",
       "                             'boundary=\"000000000000a9847405e374036a\"',\n",
       "             'DKIM-Signature': 'v=1; a=rsa-sha256; c=relaxed/relaxed;\\r\\n'\n",
       "                               '        d=gmail.com; s=20210112;\\r\\n'\n",
       "                               '        '\n",
       "                               'h=mime-version:from:date:message-id:subject:to;\\r\\n'\n",
       "                               '        '\n",
       "                               'bh=+nawkEhrVCNEBMtjHi5rLWeCYT9R0skJuXGGd79233I=;\\r\\n'\n",
       "                               '        '\n",
       "                               'b=TzxjQBrXOubyb/HKWJ4rwUE11Yt0XyLq//HGPdaKGJdVa+1+YWF4H2kulsYqQELzhC\\r\\n'\n",
       "                               '         '\n",
       "                               'yRzT58b3BRxScaFVvOQlk57KR5ojwzTZKqLrW4KgrSyS1c0TSwU015XCq+q3PM+9nhEm\\r\\n'\n",
       "                               '         '\n",
       "                               'B0iWXmRaTQmpSXQGU/YPJ7oXQYSqEGU6fMvyJozUVdxlGZRWO4LviGnfTiHb+6FoAaRH\\r\\n'\n",
       "                               '         '\n",
       "                               '3Uzl7dKgZTuUyxU3VFfWXG6Wa32d8es48u500iKhBUVimQy8i2mJLs26s4f3rwXvUDWT\\r\\n'\n",
       "                               '         '\n",
       "                               '6gnvM2ysV0AWBkmPf4VjGtmdxPT2l0CcoH0ldlVQNVxTs7RE1RH6bs45Z/f9rSBF2XzI\\r\\n'\n",
       "                               '         wLsw==',\n",
       "             'Date': 'Sun, 10 Jul 2022 15:11:04 +0100',\n",
       "             'From': 'AJ Anderson <ajanderson1@gmail.com>',\n",
       "             'MIME-Version': '1.0',\n",
       "             'Message-ID': '<CAJwr0v3m=OB4vU6Q5d6hMdsDuGdq33ywztmuj1guha9GOLwb0A@mail.gmail.com>',\n",
       "             'Received': 'by mail-pf1-f175.google.com with SMTP id '\n",
       "                         'y9so2809077pff.12\\r\\n'\n",
       "                         '        for '\n",
       "                         '<dfcb3b3f-aa43-43a4-a29e-8844b0352af1@mailslurp.com>; '\n",
       "                         'Sun, 10 Jul 2022 07:11:41 -0700 (PDT)',\n",
       "             'Received-SPF': 'pass (spfCheck: domain of _spf.google.com '\n",
       "                             'designates 209.85.210.175 as permitted sender) '\n",
       "                             'client-ip=209.85.210.175; '\n",
       "                             'envelope-from=ajanderson1@gmail.com; '\n",
       "                             'helo=mail-pf1-f175.google.com;',\n",
       "             'Return-Path': '<ajanderson1@gmail.com>',\n",
       "             'Subject': 'testemail1',\n",
       "             'To': 'dfcb3b3f-aa43-43a4-a29e-8844b0352af1@mailslurp.com',\n",
       "             'X-Gm-Message-State': 'AJIora+LJ0ahzhdIMcJ4lD1AMKh4DWwPMVyPdr6mdJNml7igF4kFeAyx\\r\\n'\n",
       "                                   '\\t'\n",
       "                                   'BtCby2xGkwUngr3X+eP9hmnX7d1f/X01nC9ASUVrWtGX7Ho=',\n",
       "             'X-Google-DKIM-Signature': 'v=1; a=rsa-sha256; '\n",
       "                                        'c=relaxed/relaxed;\\r\\n'\n",
       "                                        '        d=1e100.net; s=20210112;\\r\\n'\n",
       "                                        '        '\n",
       "                                        'h=x-gm-message-state:mime-version:from:date:message-id:subject:to;\\r\\n'\n",
       "                                        '        '\n",
       "                                        'bh=+nawkEhrVCNEBMtjHi5rLWeCYT9R0skJuXGGd79233I=;\\r\\n'\n",
       "                                        '        '\n",
       "                                        'b=0/DHPfPTq+zpo4TMSDPtbBgqD8N05n6/p5borJ5HogeR1jum0W7TD+DC0Mi3h4nDnR\\r\\n'\n",
       "                                        '         '\n",
       "                                        '9flJcOUUZW99jJcXFWFqWRY/uNHxVOBrJtcpJU+AlPDtj2VhfcxTFWYKn/T9R6wiH3Qm\\r\\n'\n",
       "                                        '         '\n",
       "                                        'AkWOTN4XjC2kbiPfGzNsHuv92rU2zuzt8gH6bO2OxeEY3D8S7SkafQR02pE4O0JQBuYB\\r\\n'\n",
       "                                        '         '\n",
       "                                        'UaXIa+srZI6FWDM4vae3WQlXAGB8GM8vp8xBDA7PtK5QvRzb1+Quw6h1E1Xx5HDvFVZH\\r\\n'\n",
       "                                        '         '\n",
       "                                        'RYpS5UMGfnKVPqIBY0ICDYuBo3zqtUIrSWUy/TLWN0OAQrKcis0bckcMPVrXo0wP5Fuz\\r\\n'\n",
       "                                        '         kSTw==',\n",
       "             'X-Google-Smtp-Source': 'AGRyM1uedB9NMiZdGCKSNztu8CVyDNponN5++C3FQMBIi/Ve5FTLswWHM640DfWEjrhdkNmOdvru2xR0ZfD0ydAmC7A=',\n",
       "             'X-Received': 'by 2002:a63:5cc:0:b0:412:b2ea:c6fe with SMTP id\\r\\n'\n",
       "                           ' '\n",
       "                           '195-20020a6305cc000000b00412b2eac6femr11998344pgf.596.1657462300704; '\n",
       "                           'Sun, 10\\r\\n'\n",
       "                           ' Jul 2022 07:11:40 -0700 (PDT)',\n",
       "             'X-SES-DKIM-SIGNATURE': 'a=rsa-sha256; q=dns/txt; '\n",
       "                                     'b=kN3uaJoXN9cGH5Lsj9DkfX4zVqVPEIQ+7+NeMb8q2DZRW8I89Km8NYGvRh06BATuZOmId32bEmBHFlPDDfe/nDR33s6cYrtPLlfbocgR9v9vRIgTug8qYuBj71JM11pii7quCxQIhPN1yNfmnxVJkD0EanEC4TQc2UHc8p8s3+k=; '\n",
       "                                     'c=relaxed/simple; '\n",
       "                                     's=gdwg2y3kokkkj5a55z2ilkup5wp5hhxx; '\n",
       "                                     'd=amazonses.com; t=1657462302; v=1; '\n",
       "                                     'bh=+nawkEhrVCNEBMtjHi5rLWeCYT9R0skJuXGGd79233I=; '\n",
       "                                     'h=From:To:Cc:Bcc:Subject:Date:Message-ID:MIME-Version:Content-Type:X-SES-RECEIPT;',\n",
       "             'X-SES-RECEIPT': 'AEFBQUFBQUFBQUFGdnQzQnBGREtXR0lpeDBWVjhhMWg1UElhdFhidVJXUHhTQTlOaVMzcldEYU9vbnZrMEJvdWtjQkdtaEhXandEbWt5MkRNWmpyVUYxQ2dnRHBVTHVFVUdVWUVrSXZIaEs0ZURmeWpEOVl5Ym04YnVReWp5Y2ZZLy9UaTZiV2J0RThJTVpzN2t5WEFIL05OZHY0eEJzOTRlKzR6Ny9BbW1WZFl5Q3BWQitSOSs4S2ZZWjJPS0h3ZG5uUGhiVUt6Y2FqaGtpc0psaG9sSVFadUZqOXhtbUNxQlMxKzF5QjlOaVhoM0lJOFhob3RMRkU1Z2twVlJLYUEvdlE5L1dKa3psMWdMbkdNQTRVVFQ0OXY1UWhHbDZkY0Z4Q1NqRFJPVUdvZG9ibGxGd2Evc2c9PQ==',\n",
       "             'X-SES-Spam-Verdict': 'PASS',\n",
       "             'X-SES-Virus-Verdict': 'PASS'},\n",
       " 'id': '828ef076-f66b-4cda-b2e6-39d12bc2533f',\n",
       " 'inbox_id': 'dfcb3b3f-aa43-43a4-a29e-8844b0352af1',\n",
       " 'is_html': True,\n",
       " 'read': False,\n",
       " 'recipients': {'bcc': [],\n",
       "                'cc': [],\n",
       "                'to': [{'email_address': 'dfcb3b3f-aa43-43a4-a29e-8844b0352af1@mailslurp.com',\n",
       "                        'name': None,\n",
       "                        'raw_value': 'dfcb3b3f-aa43-43a4-a29e-8844b0352af1@mailslurp.com'}]},\n",
       " 'reply_to': 'ajanderson1@gmail.com',\n",
       " 'sender': {'email_address': 'ajanderson1@gmail.com',\n",
       "            'name': 'AJ Anderson',\n",
       "            'raw_value': 'AJ Anderson <ajanderson1@gmail.com>'},\n",
       " 'subject': 'testemail1',\n",
       " 'team_access': True,\n",
       " 'to': ['dfcb3b3f-aa43-43a4-a29e-8844b0352af1@mailslurp.com'],\n",
       " 'updated_at': datetime.datetime(2022, 7, 10, 14, 11, 42, 451000, tzinfo=tzutc()),\n",
       " 'user_id': '40adaf0f-d3b3-49ff-91a9-bfee47c54348'}"
      ]
     },
     "execution_count": 66,
     "metadata": {},
     "output_type": "execute_result"
    }
   ],
   "source": [
    "email_controller.get_latest_email_in_inbox1(inbox_id='dfcb3b3f-aa43-43a4-a29e-8844b0352af1')"
   ]
  },
  {
   "cell_type": "markdown",
   "metadata": {},
   "source": [
    "# Inbox Fuctions"
   ]
  },
  {
   "cell_type": "markdown",
   "metadata": {},
   "source": [
    "## Show all inboxes"
   ]
  },
  {
   "cell_type": "code",
   "execution_count": null,
   "metadata": {},
   "outputs": [],
   "source": [
    "inbox_controller.get_all_inboxes()\n",
    "# inbox_controller.get_all_inboxes_with_http_info()"
   ]
  },
  {
   "cell_type": "markdown",
   "metadata": {},
   "source": [
    "## Delete all inboxes\n",
    "!! CAREFUL"
   ]
  },
  {
   "cell_type": "code",
   "execution_count": null,
   "metadata": {},
   "outputs": [],
   "source": []
  },
  {
   "cell_type": "markdown",
   "metadata": {},
   "source": [
    "## Number of Inboxes"
   ]
  },
  {
   "cell_type": "code",
   "execution_count": 41,
   "metadata": {},
   "outputs": [
    {
     "data": {
      "text/plain": [
       "{'total_elements': 7}"
      ]
     },
     "execution_count": 41,
     "metadata": {},
     "output_type": "execute_result"
    }
   ],
   "source": [
    "inbox_controller.get_inbox_count()"
   ]
  },
  {
   "cell_type": "markdown",
   "metadata": {},
   "source": [
    "## Flush expired Inboxes"
   ]
  },
  {
   "cell_type": "code",
   "execution_count": null,
   "metadata": {},
   "outputs": [],
   "source": [
    "inbox_controller.flush_expired()"
   ]
  },
  {
   "cell_type": "markdown",
   "metadata": {},
   "source": [
    "## Set Inbox to first inbox"
   ]
  },
  {
   "cell_type": "code",
   "execution_count": null,
   "metadata": {},
   "outputs": [],
   "source": [
    "this_inbox = inbox_controller.get_all_inboxes().content[0]\n",
    "print(f\"Inbox set to \\nemail address: {inbox_controller.get_all_inboxes().content[0].email_address}\")\n",
    "print(this_inbox.id)\n",
    "\n",
    "# print(f\"Inbox set to \\nID: {this_inbox.id}\\nemail address:{this_inbox.email_address}\"): {this_inbox.id}\\nemail address:{this_inbox.email_address}\")"
   ]
  },
  {
   "cell_type": "code",
   "execution_count": null,
   "metadata": {},
   "outputs": [],
   "source": [
    "list_of_avail_inboxes: list[mailslurp_client.models.inbox_dto.InboxDto] = inbox_controller.get_all_inboxes().content\n",
    "type(list_of_avail_inboxes[0])"
   ]
  },
  {
   "cell_type": "markdown",
   "metadata": {},
   "source": [
    "## get back an inbox from an id or an emaill"
   ]
  },
  {
   "cell_type": "code",
   "execution_count": 42,
   "metadata": {},
   "outputs": [
    {
     "data": {
      "text/plain": [
       "mailslurp_client.models.inbox_dto.InboxDto"
      ]
     },
     "execution_count": 42,
     "metadata": {},
     "output_type": "execute_result"
    }
   ],
   "source": [
    "an_id = 'dfcb3b3f-aa43-43a4-a29e-8844b0352af1'\n",
    "# an_emaill_address = \n",
    "type(inbox_controller.get_inbox(an_id))"
   ]
  },
  {
   "cell_type": "markdown",
   "metadata": {},
   "source": [
    "## Set Inbox to specific inbox"
   ]
  },
  {
   "cell_type": "code",
   "execution_count": null,
   "metadata": {},
   "outputs": [],
   "source": [
    "this_inbox_id = \"aadaf10e-800e-4408-b982-685b13d6ca7a\"\n",
    "\n",
    "try:\n",
    "    this_inbox = inbox_controller.get_inbox(this_inbox_id)\n",
    "    print(f\"Inbox set to \\nID: {this_inbox.id}\\nemail address: {this_inbox.email_address}\")\n",
    "except ApiException:\n",
    "    print(f\"ApiError: likely that the inbox_id: {this_inbox_id} is incorrect\")\n"
   ]
  },
  {
   "cell_type": "markdown",
   "metadata": {},
   "source": [
    "## Create  new inbox (with random domain)"
   ]
  },
  {
   "cell_type": "code",
   "execution_count": null,
   "metadata": {},
   "outputs": [],
   "source": [
    "inbox_controller.create_inbox(use_domain_pool=True)"
   ]
  },
  {
   "cell_type": "markdown",
   "metadata": {},
   "source": [
    "## Get emails (emailPreview) from inbox"
   ]
  },
  {
   "cell_type": "code",
   "execution_count": 61,
   "metadata": {},
   "outputs": [
    {
     "ename": "TypeError",
     "evalue": "'Email' object is not iterable",
     "output_type": "error",
     "traceback": [
      "\u001b[0;31m---------------------------------------------------------------------------\u001b[0m",
      "\u001b[0;31mTypeError\u001b[0m                                 Traceback (most recent call last)",
      "\u001b[1;32m/Users/ajanderson/GitHub/My Packages/Disposable Email Interface (disposable_email)/_explore/MailSlurp_explore.ipynb Cell 29'\u001b[0m in \u001b[0;36m<cell line: 3>\u001b[0;34m()\u001b[0m\n\u001b[1;32m      <a href='vscode-notebook-cell:/Users/ajanderson/GitHub/My%20Packages/Disposable%20Email%20Interface%20%28disposable_email%29/_explore/MailSlurp_explore.ipynb#ch0000021?line=0'>1</a>\u001b[0m all_emails \u001b[39m=\u001b[39m email_controller\u001b[39m.\u001b[39mget_latest_email()\n\u001b[1;32m      <a href='vscode-notebook-cell:/Users/ajanderson/GitHub/My%20Packages/Disposable%20Email%20Interface%20%28disposable_email%29/_explore/MailSlurp_explore.ipynb#ch0000021?line=1'>2</a>\u001b[0m \u001b[39m# print((all_emails[0]).__dict__)  # NB: this retutned type mailslup_client.emailPreview\u001b[39;00m\n\u001b[0;32m----> <a href='vscode-notebook-cell:/Users/ajanderson/GitHub/My%20Packages/Disposable%20Email%20Interface%20%28disposable_email%29/_explore/MailSlurp_explore.ipynb#ch0000021?line=2'>3</a>\u001b[0m \u001b[39mfor\u001b[39;00m email \u001b[39min\u001b[39;00m all_emails:\n\u001b[1;32m      <a href='vscode-notebook-cell:/Users/ajanderson/GitHub/My%20Packages/Disposable%20Email%20Interface%20%28disposable_email%29/_explore/MailSlurp_explore.ipynb#ch0000021?line=3'>4</a>\u001b[0m     \u001b[39mprint\u001b[39m(\u001b[39mf\u001b[39m\u001b[39m\"\u001b[39m\u001b[39m{\u001b[39;00memail\u001b[39m.\u001b[39mid\u001b[39m}\u001b[39;00m\u001b[39m // \u001b[39m\u001b[39m{\u001b[39;00memail\u001b[39m.\u001b[39msubject\u001b[39m}\u001b[39;00m\u001b[39m // \u001b[39m\u001b[39m{\u001b[39;00memail\u001b[39m.\u001b[39m_from\u001b[39m}\u001b[39;00m\u001b[39m\"\u001b[39m)\n",
      "\u001b[0;31mTypeError\u001b[0m: 'Email' object is not iterable"
     ]
    }
   ],
   "source": [
    "all_emails = email_controller.get_latest_email()\n",
    "# print((all_emails[0]).__dict__)  # NB: this retutned type mailslup_client.emailPreview\n",
    "for email in all_emails:\n",
    "    print(f\"{email.id} // {email.subject} // {email._from}\")"
   ]
  },
  {
   "cell_type": "code",
   "execution_count": 58,
   "metadata": {},
   "outputs": [
    {
     "ename": "ApiException",
     "evalue": "(404)\nReason: \nHTTP response headers: HTTPHeaderDict({'Date': 'Sun, 10 Jul 2022 14:07:04 GMT', 'Content-Type': 'text/plain;charset=UTF-8', 'Content-Length': '426', 'Connection': 'keep-alive', 'X-XSS-Protection': '1; mode=block', 'Referrer-Policy': 'same-origin', 'Strict-Transport-Security': 'max-age=63072000; includeSubdomains; preload', 'X-Content-Type-Options': 'nosniff', 'Content-Security-Policy': \"default-src https: 'self' app.mailslurp.com *.mailslurp.com *.mailslurp.link *.mailslurp.dev http://localhost:3000; object-src none; frame-ancestors 'self' app.mailslurp.com *.mailslurp.com *.mailslurp.link *.mailslurp.dev http://localhost:3000; img-src * data: 'unsafe-inline'; style-src * data: 'unsafe-inline';\", 'Vary': 'Origin, Access-Control-Request-Method, Access-Control-Request-Headers'})\nHTTP response body: {\"message\":\"No messages found for given user. Have you received an email yet? (GET null)\",\"caseNumber\":\"CASE-NF-ddb0a374-8ec7-4d09-be8e-6a9e5baf0075\",\"comment\":\"If your error persists please submit a ticket at `https://mailslurp.zendesk.com/hc/en-us/requests/new`. Please include your error `caseNumber` if available to help support debug the issue. Sharing screenshots or samples of your code will help the team understand.\"}\n",
     "output_type": "error",
     "traceback": [
      "\u001b[0;31m---------------------------------------------------------------------------\u001b[0m",
      "\u001b[0;31mApiException\u001b[0m                              Traceback (most recent call last)",
      "\u001b[1;32m/Users/ajanderson/GitHub/My Packages/Disposable Email Interface (disposable_email)/_explore/MailSlurp_explore.ipynb Cell 30'\u001b[0m in \u001b[0;36m<cell line: 4>\u001b[0;34m()\u001b[0m\n\u001b[1;32m      <a href='vscode-notebook-cell:/Users/ajanderson/GitHub/My%20Packages/Disposable%20Email%20Interface%20%28disposable_email%29/_explore/MailSlurp_explore.ipynb#ch0000022?line=0'>1</a>\u001b[0m this_inbox_id \u001b[39m=\u001b[39m \u001b[39m\"\u001b[39m\u001b[39mdfcb3b3f-aa43-43a4-a29e-8844b0352af1\u001b[39m\u001b[39m\"\u001b[39m\n\u001b[1;32m      <a href='vscode-notebook-cell:/Users/ajanderson/GitHub/My%20Packages/Disposable%20Email%20Interface%20%28disposable_email%29/_explore/MailSlurp_explore.ipynb#ch0000022?line=1'>2</a>\u001b[0m this_inbox \u001b[39m=\u001b[39m inbox_controller\u001b[39m.\u001b[39mget_inbox(this_inbox_id)\n\u001b[0;32m----> <a href='vscode-notebook-cell:/Users/ajanderson/GitHub/My%20Packages/Disposable%20Email%20Interface%20%28disposable_email%29/_explore/MailSlurp_explore.ipynb#ch0000022?line=3'>4</a>\u001b[0m email \u001b[39m=\u001b[39m email_controller\u001b[39m.\u001b[39;49mget_latest_email_in_inbox1(this_inbox\u001b[39m.\u001b[39;49mid)\n\u001b[1;32m      <a href='vscode-notebook-cell:/Users/ajanderson/GitHub/My%20Packages/Disposable%20Email%20Interface%20%28disposable_email%29/_explore/MailSlurp_explore.ipynb#ch0000022?line=4'>5</a>\u001b[0m wrapped_email \u001b[39m=\u001b[39m wrap_email(email)\n\u001b[1;32m      <a href='vscode-notebook-cell:/Users/ajanderson/GitHub/My%20Packages/Disposable%20Email%20Interface%20%28disposable_email%29/_explore/MailSlurp_explore.ipynb#ch0000022?line=5'>6</a>\u001b[0m \u001b[39mprint\u001b[39m(wrapped_email\u001b[39m.\u001b[39mas_string())\n",
      "File \u001b[0;32m/opt/homebrew/lib/python3.9/site-packages/mailslurp_client/api/email_controller_api.py:2565\u001b[0m, in \u001b[0;36mEmailControllerApi.get_latest_email_in_inbox1\u001b[0;34m(self, inbox_id, **kwargs)\u001b[0m\n\u001b[1;32m   2543\u001b[0m \u001b[39m\"\"\"Get latest email in an inbox. Use `WaitForController` to get emails that may not have arrived yet.  # noqa: E501\u001b[39;00m\n\u001b[1;32m   2544\u001b[0m \n\u001b[1;32m   2545\u001b[0m \u001b[39mGet the newest email in all inboxes or in a passed set of inbox IDs  # noqa: E501\u001b[39;00m\n\u001b[0;32m   (...)\u001b[0m\n\u001b[1;32m   2562\u001b[0m \u001b[39m         returns the request thread.\u001b[39;00m\n\u001b[1;32m   2563\u001b[0m \u001b[39m\"\"\"\u001b[39;00m\n\u001b[1;32m   2564\u001b[0m kwargs[\u001b[39m'\u001b[39m\u001b[39m_return_http_data_only\u001b[39m\u001b[39m'\u001b[39m] \u001b[39m=\u001b[39m \u001b[39mTrue\u001b[39;00m\n\u001b[0;32m-> 2565\u001b[0m \u001b[39mreturn\u001b[39;00m \u001b[39mself\u001b[39;49m\u001b[39m.\u001b[39;49mget_latest_email_in_inbox1_with_http_info(inbox_id, \u001b[39m*\u001b[39;49m\u001b[39m*\u001b[39;49mkwargs)\n",
      "File \u001b[0;32m/opt/homebrew/lib/python3.9/site-packages/mailslurp_client/api/email_controller_api.py:2640\u001b[0m, in \u001b[0;36mEmailControllerApi.get_latest_email_in_inbox1_with_http_info\u001b[0;34m(self, inbox_id, **kwargs)\u001b[0m\n\u001b[1;32m   2637\u001b[0m \u001b[39m# Authentication setting\u001b[39;00m\n\u001b[1;32m   2638\u001b[0m auth_settings \u001b[39m=\u001b[39m [\u001b[39m'\u001b[39m\u001b[39mAPI_KEY\u001b[39m\u001b[39m'\u001b[39m]  \u001b[39m# noqa: E501\u001b[39;00m\n\u001b[0;32m-> 2640\u001b[0m \u001b[39mreturn\u001b[39;00m \u001b[39mself\u001b[39;49m\u001b[39m.\u001b[39;49mapi_client\u001b[39m.\u001b[39;49mcall_api(\n\u001b[1;32m   2641\u001b[0m     \u001b[39m'\u001b[39;49m\u001b[39m/emails/latestIn\u001b[39;49m\u001b[39m'\u001b[39;49m, \u001b[39m'\u001b[39;49m\u001b[39mGET\u001b[39;49m\u001b[39m'\u001b[39;49m,\n\u001b[1;32m   2642\u001b[0m     path_params,\n\u001b[1;32m   2643\u001b[0m     query_params,\n\u001b[1;32m   2644\u001b[0m     header_params,\n\u001b[1;32m   2645\u001b[0m     body\u001b[39m=\u001b[39;49mbody_params,\n\u001b[1;32m   2646\u001b[0m     post_params\u001b[39m=\u001b[39;49mform_params,\n\u001b[1;32m   2647\u001b[0m     files\u001b[39m=\u001b[39;49mlocal_var_files,\n\u001b[1;32m   2648\u001b[0m     response_type\u001b[39m=\u001b[39;49m\u001b[39m'\u001b[39;49m\u001b[39mEmail\u001b[39;49m\u001b[39m'\u001b[39;49m,  \u001b[39m# noqa: E501\u001b[39;49;00m\n\u001b[1;32m   2649\u001b[0m     auth_settings\u001b[39m=\u001b[39;49mauth_settings,\n\u001b[1;32m   2650\u001b[0m     async_req\u001b[39m=\u001b[39;49mlocal_var_params\u001b[39m.\u001b[39;49mget(\u001b[39m'\u001b[39;49m\u001b[39masync_req\u001b[39;49m\u001b[39m'\u001b[39;49m),\n\u001b[1;32m   2651\u001b[0m     _return_http_data_only\u001b[39m=\u001b[39;49mlocal_var_params\u001b[39m.\u001b[39;49mget(\u001b[39m'\u001b[39;49m\u001b[39m_return_http_data_only\u001b[39;49m\u001b[39m'\u001b[39;49m),  \u001b[39m# noqa: E501\u001b[39;49;00m\n\u001b[1;32m   2652\u001b[0m     _preload_content\u001b[39m=\u001b[39;49mlocal_var_params\u001b[39m.\u001b[39;49mget(\u001b[39m'\u001b[39;49m\u001b[39m_preload_content\u001b[39;49m\u001b[39m'\u001b[39;49m, \u001b[39mTrue\u001b[39;49;00m),\n\u001b[1;32m   2653\u001b[0m     _request_timeout\u001b[39m=\u001b[39;49mlocal_var_params\u001b[39m.\u001b[39;49mget(\u001b[39m'\u001b[39;49m\u001b[39m_request_timeout\u001b[39;49m\u001b[39m'\u001b[39;49m),\n\u001b[1;32m   2654\u001b[0m     collection_formats\u001b[39m=\u001b[39;49mcollection_formats)\n",
      "File \u001b[0;32m/opt/homebrew/lib/python3.9/site-packages/mailslurp_client/api_client.py:365\u001b[0m, in \u001b[0;36mApiClient.call_api\u001b[0;34m(self, resource_path, method, path_params, query_params, header_params, body, post_params, files, response_type, auth_settings, async_req, _return_http_data_only, collection_formats, _preload_content, _request_timeout, _host)\u001b[0m\n\u001b[1;32m    328\u001b[0m \u001b[39m\"\"\"Makes the HTTP request (synchronous) and returns deserialized data.\u001b[39;00m\n\u001b[1;32m    329\u001b[0m \n\u001b[1;32m    330\u001b[0m \u001b[39mTo make an async_req request, set the async_req parameter.\u001b[39;00m\n\u001b[0;32m   (...)\u001b[0m\n\u001b[1;32m    362\u001b[0m \u001b[39m    then the method will return the response directly.\u001b[39;00m\n\u001b[1;32m    363\u001b[0m \u001b[39m\"\"\"\u001b[39;00m\n\u001b[1;32m    364\u001b[0m \u001b[39mif\u001b[39;00m \u001b[39mnot\u001b[39;00m async_req:\n\u001b[0;32m--> 365\u001b[0m     \u001b[39mreturn\u001b[39;00m \u001b[39mself\u001b[39;49m\u001b[39m.\u001b[39;49m__call_api(resource_path, method,\n\u001b[1;32m    366\u001b[0m                            path_params, query_params, header_params,\n\u001b[1;32m    367\u001b[0m                            body, post_params, files,\n\u001b[1;32m    368\u001b[0m                            response_type, auth_settings,\n\u001b[1;32m    369\u001b[0m                            _return_http_data_only, collection_formats,\n\u001b[1;32m    370\u001b[0m                            _preload_content, _request_timeout, _host)\n\u001b[1;32m    372\u001b[0m \u001b[39mreturn\u001b[39;00m \u001b[39mself\u001b[39m\u001b[39m.\u001b[39mpool\u001b[39m.\u001b[39mapply_async(\u001b[39mself\u001b[39m\u001b[39m.\u001b[39m__call_api, (resource_path,\n\u001b[1;32m    373\u001b[0m                                                method, path_params,\n\u001b[1;32m    374\u001b[0m                                                query_params,\n\u001b[0;32m   (...)\u001b[0m\n\u001b[1;32m    382\u001b[0m                                                _request_timeout,\n\u001b[1;32m    383\u001b[0m                                                _host))\n",
      "File \u001b[0;32m/opt/homebrew/lib/python3.9/site-packages/mailslurp_client/api_client.py:189\u001b[0m, in \u001b[0;36mApiClient.__call_api\u001b[0;34m(self, resource_path, method, path_params, query_params, header_params, body, post_params, files, response_type, auth_settings, _return_http_data_only, collection_formats, _preload_content, _request_timeout, _host)\u001b[0m\n\u001b[1;32m    187\u001b[0m \u001b[39mexcept\u001b[39;00m ApiException \u001b[39mas\u001b[39;00m e:\n\u001b[1;32m    188\u001b[0m     e\u001b[39m.\u001b[39mbody \u001b[39m=\u001b[39m e\u001b[39m.\u001b[39mbody\u001b[39m.\u001b[39mdecode(\u001b[39m'\u001b[39m\u001b[39mutf-8\u001b[39m\u001b[39m'\u001b[39m) \u001b[39mif\u001b[39;00m six\u001b[39m.\u001b[39mPY3 \u001b[39melse\u001b[39;00m e\u001b[39m.\u001b[39mbody\n\u001b[0;32m--> 189\u001b[0m     \u001b[39mraise\u001b[39;00m e\n\u001b[1;32m    191\u001b[0m content_type \u001b[39m=\u001b[39m response_data\u001b[39m.\u001b[39mgetheader(\u001b[39m'\u001b[39m\u001b[39mcontent-type\u001b[39m\u001b[39m'\u001b[39m)\n\u001b[1;32m    193\u001b[0m \u001b[39mself\u001b[39m\u001b[39m.\u001b[39mlast_response \u001b[39m=\u001b[39m response_data\n",
      "File \u001b[0;32m/opt/homebrew/lib/python3.9/site-packages/mailslurp_client/api_client.py:182\u001b[0m, in \u001b[0;36mApiClient.__call_api\u001b[0;34m(self, resource_path, method, path_params, query_params, header_params, body, post_params, files, response_type, auth_settings, _return_http_data_only, collection_formats, _preload_content, _request_timeout, _host)\u001b[0m\n\u001b[1;32m    178\u001b[0m     url \u001b[39m=\u001b[39m _host \u001b[39m+\u001b[39m resource_path\n\u001b[1;32m    180\u001b[0m \u001b[39mtry\u001b[39;00m:\n\u001b[1;32m    181\u001b[0m     \u001b[39m# perform request and return response\u001b[39;00m\n\u001b[0;32m--> 182\u001b[0m     response_data \u001b[39m=\u001b[39m \u001b[39mself\u001b[39;49m\u001b[39m.\u001b[39;49mrequest(\n\u001b[1;32m    183\u001b[0m         method, url, query_params\u001b[39m=\u001b[39;49mquery_params, headers\u001b[39m=\u001b[39;49mheader_params,\n\u001b[1;32m    184\u001b[0m         post_params\u001b[39m=\u001b[39;49mpost_params, body\u001b[39m=\u001b[39;49mbody,\n\u001b[1;32m    185\u001b[0m         _preload_content\u001b[39m=\u001b[39;49m_preload_content,\n\u001b[1;32m    186\u001b[0m         _request_timeout\u001b[39m=\u001b[39;49m_request_timeout)\n\u001b[1;32m    187\u001b[0m \u001b[39mexcept\u001b[39;00m ApiException \u001b[39mas\u001b[39;00m e:\n\u001b[1;32m    188\u001b[0m     e\u001b[39m.\u001b[39mbody \u001b[39m=\u001b[39m e\u001b[39m.\u001b[39mbody\u001b[39m.\u001b[39mdecode(\u001b[39m'\u001b[39m\u001b[39mutf-8\u001b[39m\u001b[39m'\u001b[39m) \u001b[39mif\u001b[39;00m six\u001b[39m.\u001b[39mPY3 \u001b[39melse\u001b[39;00m e\u001b[39m.\u001b[39mbody\n",
      "File \u001b[0;32m/opt/homebrew/lib/python3.9/site-packages/mailslurp_client/api_client.py:390\u001b[0m, in \u001b[0;36mApiClient.request\u001b[0;34m(self, method, url, query_params, headers, post_params, body, _preload_content, _request_timeout)\u001b[0m\n\u001b[1;32m    388\u001b[0m \u001b[39m\"\"\"Makes the HTTP request using RESTClient.\"\"\"\u001b[39;00m\n\u001b[1;32m    389\u001b[0m \u001b[39mif\u001b[39;00m method \u001b[39m==\u001b[39m \u001b[39m\"\u001b[39m\u001b[39mGET\u001b[39m\u001b[39m\"\u001b[39m:\n\u001b[0;32m--> 390\u001b[0m     \u001b[39mreturn\u001b[39;00m \u001b[39mself\u001b[39;49m\u001b[39m.\u001b[39;49mrest_client\u001b[39m.\u001b[39;49mGET(url,\n\u001b[1;32m    391\u001b[0m                                 query_params\u001b[39m=\u001b[39;49mquery_params,\n\u001b[1;32m    392\u001b[0m                                 _preload_content\u001b[39m=\u001b[39;49m_preload_content,\n\u001b[1;32m    393\u001b[0m                                 _request_timeout\u001b[39m=\u001b[39;49m_request_timeout,\n\u001b[1;32m    394\u001b[0m                                 headers\u001b[39m=\u001b[39;49mheaders)\n\u001b[1;32m    395\u001b[0m \u001b[39melif\u001b[39;00m method \u001b[39m==\u001b[39m \u001b[39m\"\u001b[39m\u001b[39mHEAD\u001b[39m\u001b[39m\"\u001b[39m:\n\u001b[1;32m    396\u001b[0m     \u001b[39mreturn\u001b[39;00m \u001b[39mself\u001b[39m\u001b[39m.\u001b[39mrest_client\u001b[39m.\u001b[39mHEAD(url,\n\u001b[1;32m    397\u001b[0m                                  query_params\u001b[39m=\u001b[39mquery_params,\n\u001b[1;32m    398\u001b[0m                                  _preload_content\u001b[39m=\u001b[39m_preload_content,\n\u001b[1;32m    399\u001b[0m                                  _request_timeout\u001b[39m=\u001b[39m_request_timeout,\n\u001b[1;32m    400\u001b[0m                                  headers\u001b[39m=\u001b[39mheaders)\n",
      "File \u001b[0;32m/opt/homebrew/lib/python3.9/site-packages/mailslurp_client/rest.py:231\u001b[0m, in \u001b[0;36mRESTClientObject.GET\u001b[0;34m(self, url, headers, query_params, _preload_content, _request_timeout)\u001b[0m\n\u001b[1;32m    229\u001b[0m \u001b[39mdef\u001b[39;00m \u001b[39mGET\u001b[39m(\u001b[39mself\u001b[39m, url, headers\u001b[39m=\u001b[39m\u001b[39mNone\u001b[39;00m, query_params\u001b[39m=\u001b[39m\u001b[39mNone\u001b[39;00m, _preload_content\u001b[39m=\u001b[39m\u001b[39mTrue\u001b[39;00m,\n\u001b[1;32m    230\u001b[0m         _request_timeout\u001b[39m=\u001b[39m\u001b[39mNone\u001b[39;00m):\n\u001b[0;32m--> 231\u001b[0m     \u001b[39mreturn\u001b[39;00m \u001b[39mself\u001b[39;49m\u001b[39m.\u001b[39;49mrequest(\u001b[39m\"\u001b[39;49m\u001b[39mGET\u001b[39;49m\u001b[39m\"\u001b[39;49m, url,\n\u001b[1;32m    232\u001b[0m                         headers\u001b[39m=\u001b[39;49mheaders,\n\u001b[1;32m    233\u001b[0m                         _preload_content\u001b[39m=\u001b[39;49m_preload_content,\n\u001b[1;32m    234\u001b[0m                         _request_timeout\u001b[39m=\u001b[39;49m_request_timeout,\n\u001b[1;32m    235\u001b[0m                         query_params\u001b[39m=\u001b[39;49mquery_params)\n",
      "File \u001b[0;32m/opt/homebrew/lib/python3.9/site-packages/mailslurp_client/rest.py:225\u001b[0m, in \u001b[0;36mRESTClientObject.request\u001b[0;34m(self, method, url, query_params, headers, body, post_params, _preload_content, _request_timeout)\u001b[0m\n\u001b[1;32m    222\u001b[0m     logger\u001b[39m.\u001b[39mdebug(\u001b[39m\"\u001b[39m\u001b[39mresponse body: \u001b[39m\u001b[39m%s\u001b[39;00m\u001b[39m\"\u001b[39m, r\u001b[39m.\u001b[39mdata)\n\u001b[1;32m    224\u001b[0m \u001b[39mif\u001b[39;00m \u001b[39mnot\u001b[39;00m \u001b[39m200\u001b[39m \u001b[39m<\u001b[39m\u001b[39m=\u001b[39m r\u001b[39m.\u001b[39mstatus \u001b[39m<\u001b[39m\u001b[39m=\u001b[39m \u001b[39m299\u001b[39m:\n\u001b[0;32m--> 225\u001b[0m     \u001b[39mraise\u001b[39;00m ApiException(http_resp\u001b[39m=\u001b[39mr)\n\u001b[1;32m    227\u001b[0m \u001b[39mreturn\u001b[39;00m r\n",
      "\u001b[0;31mApiException\u001b[0m: (404)\nReason: \nHTTP response headers: HTTPHeaderDict({'Date': 'Sun, 10 Jul 2022 14:07:04 GMT', 'Content-Type': 'text/plain;charset=UTF-8', 'Content-Length': '426', 'Connection': 'keep-alive', 'X-XSS-Protection': '1; mode=block', 'Referrer-Policy': 'same-origin', 'Strict-Transport-Security': 'max-age=63072000; includeSubdomains; preload', 'X-Content-Type-Options': 'nosniff', 'Content-Security-Policy': \"default-src https: 'self' app.mailslurp.com *.mailslurp.com *.mailslurp.link *.mailslurp.dev http://localhost:3000; object-src none; frame-ancestors 'self' app.mailslurp.com *.mailslurp.com *.mailslurp.link *.mailslurp.dev http://localhost:3000; img-src * data: 'unsafe-inline'; style-src * data: 'unsafe-inline';\", 'Vary': 'Origin, Access-Control-Request-Method, Access-Control-Request-Headers'})\nHTTP response body: {\"message\":\"No messages found for given user. Have you received an email yet? (GET null)\",\"caseNumber\":\"CASE-NF-ddb0a374-8ec7-4d09-be8e-6a9e5baf0075\",\"comment\":\"If your error persists please submit a ticket at `https://mailslurp.zendesk.com/hc/en-us/requests/new`. Please include your error `caseNumber` if available to help support debug the issue. Sharing screenshots or samples of your code will help the team understand.\"}\n"
     ]
    }
   ],
   "source": [
    "this_inbox_id = \"dfcb3b3f-aa43-43a4-a29e-8844b0352af1\"\n",
    "this_inbox = inbox_controller.get_inbox(this_inbox_id)\n",
    "\n",
    "email = email_controller.get_latest_email_in_inbox1(this_inbox.id)\n",
    "wrapped_email = wrap_email(email)\n",
    "print(wrapped_email.as_string())"
   ]
  },
  {
   "cell_type": "markdown",
   "metadata": {},
   "source": [
    "## Get email from emailID (from emailPreview)"
   ]
  },
  {
   "cell_type": "code",
   "execution_count": null,
   "metadata": {},
   "outputs": [],
   "source": [
    "this_email = email_controller.get_email(all_emails[0].id)\n",
    "this_email.body"
   ]
  },
  {
   "cell_type": "markdown",
   "metadata": {},
   "source": [
    "# Emails"
   ]
  },
  {
   "cell_type": "code",
   "execution_count": null,
   "metadata": {},
   "outputs": [],
   "source": [
    "# list all inboxes\n",
    "with mailslurp_client.ApiClient(configuration) as api_client:\n",
    "    inbox_controller = mailslurp_client.InboxControllerApi(api_client)\n",
    "    inboxes = inbox_controller.get_all_inboxes(page=0)\n",
    "\n",
    "    # pagination properties\n",
    "    assert inboxes.total_pages > 0\n",
    "    assert inboxes.total_elements > 0\n",
    "\n",
    "    # view contents\n",
    "    assert len(inboxes.content[0].id) > 0\n",
    "    for this_inbox in inboxes.content:\n",
    "        print (this_inbox.id)\n"
   ]
  },
  {
   "cell_type": "code",
   "execution_count": null,
   "metadata": {},
   "outputs": [],
   "source": [
    "inbox = inboxes.content[0]\n",
    "# print(inbox.__dict__)\n",
    "print(help(inbox))"
   ]
  }
 ],
 "metadata": {
  "interpreter": {
   "hash": "b0fa6594d8f4cbf19f97940f81e996739fb7646882a419484c72d19e05852a7e"
  },
  "kernelspec": {
   "display_name": "Python 3.9.9 64-bit",
   "language": "python",
   "name": "python3"
  },
  "language_info": {
   "codemirror_mode": {
    "name": "ipython",
    "version": 3
   },
   "file_extension": ".py",
   "mimetype": "text/x-python",
   "name": "python",
   "nbconvert_exporter": "python",
   "pygments_lexer": "ipython3",
   "version": "3.9.13"
  },
  "orig_nbformat": 4
 },
 "nbformat": 4,
 "nbformat_minor": 2
}
