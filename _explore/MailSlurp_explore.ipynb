{
 "cells": [
  {
   "cell_type": "code",
   "execution_count": 49,
   "metadata": {},
   "outputs": [
    {
     "name": "stdout",
     "output_type": "stream",
     "text": [
      "15.5.6\n"
     ]
    }
   ],
   "source": [
    "import os\n",
    "import sys\n",
    "from datetime import datetime\n",
    "\n",
    "\n",
    "from config import MAILSLURP_API\n",
    "import mailslurp_client\n",
    "from email.utils import formatdate\n",
    "from email.message import EmailMessage\n",
    "import email.header\n",
    "from mailslurp_client import ApiException, Email, EmailPreview\n",
    "\n",
    "\n",
    "\n",
    "print(mailslurp_client.__version__)\n"
   ]
  },
  {
   "cell_type": "markdown",
   "metadata": {},
   "source": [
    "# Utils"
   ]
  },
  {
   "cell_type": "code",
   "execution_count": 55,
   "metadata": {},
   "outputs": [],
   "source": [
    "def wrap_email(email_mailslurp: mailslurp_client.Email) -> EmailMessage:\n",
    "    #raise NotImplementedError(f\"wrap_email method not yet implemented for MailSlurp(because ran out of API credits!!!)\")\n",
    "    msg = EmailMessage()\n",
    "    msg['Subject'] = email_mailslurp.subject\n",
    "    msg['From'] = email_mailslurp._from\n",
    "    msg['To'] = email_mailslurp._to\n",
    "    msg['Date'] = formatdate(email_mailslurp.created_at.timestamp())\n",
    "    msg.set_content(email_mailslurp.body)\n",
    "    return msg  # returns the Email Object\n"
   ]
  },
  {
   "cell_type": "markdown",
   "metadata": {},
   "source": [
    "# Setup\n"
   ]
  },
  {
   "cell_type": "markdown",
   "metadata": {},
   "source": [
    "## Configuration"
   ]
  },
  {
   "cell_type": "code",
   "execution_count": null,
   "metadata": {},
   "outputs": [],
   "source": []
  },
  {
   "cell_type": "code",
   "execution_count": 4,
   "metadata": {},
   "outputs": [],
   "source": [
    "# set up required MailSlurp Configuration\n",
    "configuration = mailslurp_client.Configuration()\n",
    "configuration.api_key['x-api-key'] = MAILSLURP_API\n",
    "\n",
    "# create an API client\n",
    "api_client = mailslurp_client.ApiClient(configuration)\n",
    "\n",
    "# create an InboxControllerApi  # See: https://docs.mailslurp.com/ruby/docs/InboxControllerApi/\n",
    "inbox_controller = mailslurp_client.InboxControllerApi(api_client)\n",
    "waitfor_controller = mailslurp_client.WaitForControllerApi(api_client)\n",
    "email_controller = mailslurp_client.EmailControllerApi(api_client)\n"
   ]
  },
  {
   "cell_type": "markdown",
   "metadata": {},
   "source": [
    "# Inbox Fuctions"
   ]
  },
  {
   "cell_type": "markdown",
   "metadata": {},
   "source": [
    "## Show all inboxes"
   ]
  },
  {
   "cell_type": "code",
   "execution_count": null,
   "metadata": {},
   "outputs": [],
   "source": [
    "inbox_controller.get_all_inboxes()\n",
    "# inbox_controller.get_all_inboxes_with_http_info()"
   ]
  },
  {
   "cell_type": "markdown",
   "metadata": {},
   "source": [
    "## Number of Inboxes"
   ]
  },
  {
   "cell_type": "code",
   "execution_count": null,
   "metadata": {},
   "outputs": [],
   "source": [
    "inbox_controller.get_inbox_count()"
   ]
  },
  {
   "cell_type": "markdown",
   "metadata": {},
   "source": [
    "## Flush expired Inboxes"
   ]
  },
  {
   "cell_type": "code",
   "execution_count": null,
   "metadata": {},
   "outputs": [],
   "source": [
    "inbox_controller.flush_expired()"
   ]
  },
  {
   "cell_type": "markdown",
   "metadata": {},
   "source": [
    "## Set Inbox to first inbox"
   ]
  },
  {
   "cell_type": "code",
   "execution_count": null,
   "metadata": {},
   "outputs": [],
   "source": [
    "this_inbox = inbox_controller.get_all_inboxes().content[0]\n",
    "print(f\"Inbox set to \\nemail address: {inbox_controller.get_all_inboxes().content[0].email_address}\")\n",
    "\n",
    "# print(f\"Inbox set to \\nID: {this_inbox.id}\\nemail address:{this_inbox.email_address}\"): {this_inbox.id}\\nemail address:{this_inbox.email_address}\")"
   ]
  },
  {
   "cell_type": "markdown",
   "metadata": {},
   "source": [
    "## Set Inbox to specific inbox"
   ]
  },
  {
   "cell_type": "code",
   "execution_count": 5,
   "metadata": {},
   "outputs": [
    {
     "name": "stdout",
     "output_type": "stream",
     "text": [
      "Inbox set to \n",
      "ID: aadaf10e-800e-4408-b982-685b13d6ca7a\n",
      "email address: aadaf10e-800e-4408-b982-685b13d6ca7a@mailslurp.com\n"
     ]
    }
   ],
   "source": [
    "this_inbox_id = \"aadaf10e-800e-4408-b982-685b13d6ca7a\"\n",
    "\n",
    "try:\n",
    "    this_inbox = inbox_controller.get_inbox(this_inbox_id)\n",
    "    print(f\"Inbox set to \\nID: {this_inbox.id}\\nemail address: {this_inbox.email_address}\")\n",
    "except ApiException:\n",
    "    print(f\"ApiError: likely that the inbox_id: {this_inbox_id} is incorrect\")\n"
   ]
  },
  {
   "cell_type": "markdown",
   "metadata": {},
   "source": [
    "## Create  new inbox (with random domain)"
   ]
  },
  {
   "cell_type": "code",
   "execution_count": null,
   "metadata": {},
   "outputs": [],
   "source": [
    "inbox_controller.create_inbox(use_domain_pool=True)"
   ]
  },
  {
   "cell_type": "markdown",
   "metadata": {},
   "source": [
    "## Get emails (emailPreview) from inbox"
   ]
  },
  {
   "cell_type": "code",
   "execution_count": 30,
   "metadata": {},
   "outputs": [
    {
     "name": "stdout",
     "output_type": "stream",
     "text": [
      "730f3e94-cd1f-4b49-b627-9259353109ec // test email subjecy // ajanderson1@gmail.com\n"
     ]
    }
   ],
   "source": [
    "all_emails = inbox_controller.get_emails(this_inbox.id)\n",
    "# print((all_emails[0]).__dict__)  # NB: this retutned type mailslup_client.emailPreview\n",
    "for email in all_emails:\n",
    "    print(f\"{email.id} // {email.subject} // {email._from}\")"
   ]
  },
  {
   "cell_type": "code",
   "execution_count": 54,
   "metadata": {},
   "outputs": [
    {
     "name": "stdout",
     "output_type": "stream",
     "text": [
      "Date: Sun, 06 Feb 2022 13:47:32 -0000\n",
      "Subject: test email subjecy\n",
      "From: ajanderson1@gmail.com\n",
      "To: aadaf10e-800e-4408-b982-685b13d6ca7a@mailslurp.com\n",
      "created_at: 02/06/2022, 13:47:32\n",
      "Content-Type: text/plain; charset=\"utf-8\"\n",
      "Content-Transfer-Encoding: 7bit\n",
      "MIME-Version: 1.0\n",
      "\n",
      "<div dir=\"ltr\">testting email</div>\n",
      "\n"
     ]
    }
   ],
   "source": [
    "email = inbox_controller.get_latest_email_in_inbox(this_inbox.id,timeout_millis=56)\n",
    "wrapped_email = wrap_email(email)\n",
    "print(wrapped_email.as_string())"
   ]
  },
  {
   "cell_type": "markdown",
   "metadata": {},
   "source": [
    "## Get email from emailID (from emailPreview)"
   ]
  },
  {
   "cell_type": "code",
   "execution_count": 31,
   "metadata": {},
   "outputs": [
    {
     "data": {
      "text/plain": [
       "'<div dir=\"ltr\">testting email</div>\\r\\n'"
      ]
     },
     "execution_count": 31,
     "metadata": {},
     "output_type": "execute_result"
    }
   ],
   "source": [
    "this_email = email_controller.get_email(all_emails[0].id)\n",
    "this_email.body"
   ]
  },
  {
   "cell_type": "markdown",
   "metadata": {},
   "source": [
    "# Emails"
   ]
  },
  {
   "cell_type": "code",
   "execution_count": null,
   "metadata": {},
   "outputs": [],
   "source": [
    "# list all inboxes\n",
    "with mailslurp_client.ApiClient(configuration) as api_client:\n",
    "    inbox_controller = mailslurp_client.InboxControllerApi(api_client)\n",
    "    inboxes = inbox_controller.get_all_inboxes(page=0)\n",
    "\n",
    "    # pagination properties\n",
    "    assert inboxes.total_pages > 0\n",
    "    assert inboxes.total_elements > 0\n",
    "\n",
    "    # view contents\n",
    "    assert len(inboxes.content[0].id) > 0\n",
    "    for this_inbox in inboxes.content:\n",
    "        print (this_inbox.id)\n"
   ]
  },
  {
   "cell_type": "code",
   "execution_count": null,
   "metadata": {},
   "outputs": [],
   "source": [
    "inbox = inboxes.content[0]\n",
    "# print(inbox.__dict__)\n",
    "print(help(inbox))"
   ]
  }
 ],
 "metadata": {
  "interpreter": {
   "hash": "b0fa6594d8f4cbf19f97940f81e996739fb7646882a419484c72d19e05852a7e"
  },
  "kernelspec": {
   "display_name": "Python 3.9.9 64-bit",
   "language": "python",
   "name": "python3"
  },
  "language_info": {
   "codemirror_mode": {
    "name": "ipython",
    "version": 3
   },
   "file_extension": ".py",
   "mimetype": "text/x-python",
   "name": "python",
   "nbconvert_exporter": "python",
   "pygments_lexer": "ipython3",
   "version": "3.9.9"
  },
  "orig_nbformat": 4
 },
 "nbformat": 4,
 "nbformat_minor": 2
}
