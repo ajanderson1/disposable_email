{
 "cells": [
  {
   "cell_type": "code",
   "execution_count": 1,
   "metadata": {},
   "outputs": [
    {
     "name": "stdout",
     "output_type": "stream",
     "text": [
      "3.9.13 (main, May 24 2022, 21:13:54) \n",
      "[Clang 13.0.0 (clang-1300.0.29.30)]\n"
     ]
    }
   ],
   "source": [
    "import sys\n",
    "print(sys.version)"
   ]
  },
  {
   "cell_type": "code",
   "execution_count": 2,
   "metadata": {},
   "outputs": [],
   "source": [
    "from validate_email import validate_email\n"
   ]
  },
  {
   "cell_type": "code",
   "execution_count": 3,
   "metadata": {},
   "outputs": [
    {
     "name": "stderr",
     "output_type": "stream",
     "text": [
      "mta5.am0.yahoodns.net resolve error: The DNS response does not contain an answer to the question: mta5.am0.yahoodns.net. IN AAAA\n",
      "mta6.am0.yahoodns.net resolve error: The DNS response does not contain an answer to the question: mta6.am0.yahoodns.net. IN AAAA\n",
      "mta7.am0.yahoodns.net resolve error: The DNS response does not contain an answer to the question: mta7.am0.yahoodns.net. IN AAAA\n"
     ]
    }
   ],
   "source": [
    "is_valid = validate_email(\n",
    "    email_address='ajanderson1@yahoo.com',\n",
    "    check_format=True\n",
    ")"
   ]
  },
  {
   "cell_type": "code",
   "execution_count": 3,
   "metadata": {},
   "outputs": [
    {
     "name": "stderr",
     "output_type": "stream",
     "text": [
      "mta5.am0.yahoodns.net resolve error: The DNS response does not contain an answer to the question: mta5.am0.yahoodns.net. IN AAAA\n",
      "mta6.am0.yahoodns.net resolve error: The DNS response does not contain an answer to the question: mta6.am0.yahoodns.net. IN AAAA\n",
      "mta7.am0.yahoodns.net resolve error: The DNS response does not contain an answer to the question: mta7.am0.yahoodns.net. IN AAAA\n"
     ]
    }
   ],
   "source": [
    "is_valid = validate_email(\n",
    "    email_address='ajanderson1@yahoo.com',\n",
    "    check_format=True,\n",
    "    # check_blacklist=True,\n",
    "    # check_dns=True,\n",
    "    # dns_timeout=10,\n",
    "    # check_smtp=True,\n",
    "    # smtp_timeout=10,\n",
    "    # smtp_helo_host='my.host.name',\n",
    "    # smtp_from_address='my@from.addr.ess',\n",
    "    # smtp_skip_tls=False,\n",
    "    # smtp_tls_context=None,\n",
    "    # smtp_debug=False,\n",
    "    # address_types=frozenset([IPv4Address, IPv6Address])\n",
    "    )"
   ]
  },
  {
   "cell_type": "code",
   "execution_count": null,
   "metadata": {},
   "outputs": [
    {
     "name": "stdout",
     "output_type": "stream",
     "text": [
      "False\n"
     ]
    }
   ],
   "source": [
    "print (is_valid)"
   ]
  },
  {
   "cell_type": "code",
   "execution_count": null,
   "metadata": {},
   "outputs": [],
   "source": []
  }
 ],
 "metadata": {
  "kernelspec": {
   "display_name": "Python 3.9.13 64-bit",
   "language": "python",
   "name": "python3"
  },
  "language_info": {
   "codemirror_mode": {
    "name": "ipython",
    "version": 3
   },
   "file_extension": ".py",
   "mimetype": "text/x-python",
   "name": "python",
   "nbconvert_exporter": "python",
   "pygments_lexer": "ipython3",
   "version": "3.9.13"
  },
  "orig_nbformat": 4,
  "vscode": {
   "interpreter": {
    "hash": "b0fa6594d8f4cbf19f97940f81e996739fb7646882a419484c72d19e05852a7e"
   }
  }
 },
 "nbformat": 4,
 "nbformat_minor": 2
}
