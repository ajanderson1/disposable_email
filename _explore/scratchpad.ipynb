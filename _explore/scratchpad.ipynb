{
 "cells": [
  {
   "cell_type": "code",
   "execution_count": null,
   "metadata": {},
   "outputs": [],
   "source": [
    "        def wrapper(*args, **kwargs):\n",
    "            func_starttime = time.time()\n",
    "            # print(f\"function: {func.__name__}, started at: {func_starttime}\")\n",
    "            # print(\"PRINGING SOMETRHING!!!!\")\n",
    "            timeout=kwargs.get('timeout') # else None.\n",
    "            # print(f\"Timeout is set to: {timeout}\")\n",
    "            # print(f\"so  func_starttime = { func_starttime   }\")\n",
    "            # print(f\"so  func_starttime + timeout = { func_starttime + timeout}\")\n",
    "            # print(f\"...and time now is: {time.time()}\")\n",
    "            my_iterator = 1\n",
    "            if timeout is not None:\n",
    "                while time.time()< func_starttime + timeout:\n",
    "                    print(f\"{my_iterator} : ok  func_starttime + timeout is less than time.time()\") \n",
    "                    try:\n",
    "                        # need to know my remining time, so can reset polling timeout.\n",
    "                        remaining_time = func_starttime + timeout - time.time()\n",
    "                        print(f\"-- remaining time is {remaining_time}s. \")\n",
    "                        func(*args, **kwargs)\n",
    "                        print(f\"just done funct: time ins now {time.time()}, endtime remains: {func_starttime + timeout}\")\n",
    "                        time.sleep(2)\n",
    "\n",
    "                        my_iterator += 1\n",
    "                        if (my_iterator-1) %5 == 0:\n",
    "                            raise DisposableEmailException(\"Simulating Something went wrong...\")\n",
    "                    except DisposableEmailException as e:\n",
    "                        print(f\"Caight the timeout exception: {e}\\nWill now lookto retry if not already past time limit\")\n",
    "                log.info(\"User specified timeout () has expired\")\n",
    "                raise DisposableEmailException(\"User specified timeout has expired\")\n",
    "            else:\n",
    "                func(*args, **kwargs)\n",
    "        return wrapper\n"
   ]
  }
 ],
 "metadata": {
  "language_info": {
   "name": "python"
  },
  "orig_nbformat": 4
 },
 "nbformat": 4,
 "nbformat_minor": 2
}
